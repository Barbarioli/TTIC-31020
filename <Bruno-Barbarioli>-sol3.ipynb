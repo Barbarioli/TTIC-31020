{
 "cells": [
  {
   "cell_type": "code",
   "execution_count": 3,
   "metadata": {
    "collapsed": true
   },
   "outputs": [],
   "source": [
    "from __future__ import absolute_import\n",
    "from __future__ import division\n",
    "from __future__ import print_function\n",
    "\n",
    "from utils import *\n",
    "\n",
    "import numpy as np\n",
    "import cvxopt\n",
    "\n",
    "cvxopt.solvers.options['show_progress'] = False\n",
    "\n",
    "%matplotlib inline"
   ]
  },
  {
   "cell_type": "code",
   "execution_count": 4,
   "metadata": {},
   "outputs": [
    {
     "name": "stdout",
     "output_type": "stream",
     "text": [
      "Feature size:  1464\n"
     ]
    }
   ],
   "source": [
    "\"\"\"\n",
    "Get the preprocessed data:\n",
    "X and y are dicts, has keys train, val and test. keys gives you what word (or pair of words) each dimension corresponds to.\n",
    "\n",
    "You can also get bigram features if you call preprocess(bigram = True)`\n",
    "Another optional argument mincount specifies the frequency cutoff for inclusion of a word/bigram in the\n",
    "dictionary.\n",
    "\n",
    "\"\"\"\n",
    "\n",
    "X, y, keys = preprocess()"
   ]
  },
  {
   "cell_type": "code",
   "execution_count": 5,
   "metadata": {
    "collapsed": true
   },
   "outputs": [],
   "source": [
    "class Kernel(object):\n",
    "    \"\"\"\n",
    "    A class containing all kinds of kernels.\n",
    "    Note: the kernel should work for both input (Matrix, vector) and (vector, vector)\n",
    "    \"\"\"\n",
    "    @staticmethod\n",
    "    def linear():\n",
    "        def f(x, y):\n",
    "            return np.dot(x, y)\n",
    "        return f\n",
    "\n",
    "    @staticmethod\n",
    "    def gaussian(gamma):  # we use the commonly used name, although it's not really a Gaussian\n",
    "        def f(x, y):\n",
    "            exponent = - gamma * np.linalg.norm((x-y).transpose(), 2, 0) ** 2\n",
    "            return np.exp(exponent)\n",
    "        return f\n",
    "\n",
    "    @staticmethod\n",
    "    def _poly(dimension, offset):\n",
    "        def f(x, y):\n",
    "            return (offset + np.dot(x, y)) ** dimension\n",
    "        return f\n",
    "\n",
    "    @staticmethod\n",
    "    def inhomogenous_polynomial(dimension):\n",
    "        return Kernel._poly(dimension=dimension, offset=1.0)\n",
    "\n",
    "    @staticmethod\n",
    "    def homogenous_polynomial(dimension):\n",
    "        return Kernel._poly(dimension=dimension, offset=0.0)\n",
    "\n",
    "    @staticmethod\n",
    "    def hyperbolic_tangent(kappa, c):\n",
    "        def f(x, y):\n",
    "            return np.tanh(kappa * np.dot(x, y) + c)\n",
    "        return f"
   ]
  },
  {
   "cell_type": "code",
   "execution_count": 6,
   "metadata": {
    "collapsed": true
   },
   "outputs": [],
   "source": [
    "class SVM(object):\n",
    "    def __init__(self, kernel, c):\n",
    "        \"\"\"\n",
    "        Build a SVM given kernel function and C\n",
    "\n",
    "        Parameters\n",
    "        ----------\n",
    "        kernel : function\n",
    "            a function takes input (Matrix, vector) or (vector, vector)\n",
    "        c : a scalar\n",
    "            balance term\n",
    "\n",
    "        Returns\n",
    "        -------\n",
    "        \"\"\"\n",
    "        self._kernel = kernel\n",
    "        self._c = c\n",
    "\n",
    "    def fit(self, X, y):\n",
    "        \"\"\"\n",
    "        Fit the model given data X and ground truth label y\n",
    "\n",
    "        Parameters\n",
    "        ----------\n",
    "        X : 2D array\n",
    "            N x d data matrix (row per example)\n",
    "        y : 1D array\n",
    "            class label\n",
    "\n",
    "        Returns\n",
    "        -------\n",
    "        \"\"\"\n",
    "        # Solve the QP problem to get the multipliers\n",
    "        lagrange_multipliers = self._compute_multipliers(X, y)\n",
    "        # Get all the support vectors, support weights and bias\n",
    "        return self._construct_predictor(X, y, lagrange_multipliers)\n",
    "    \n",
    "    def predict(self, X):\n",
    "\n",
    "        result = np.full(X.shape[0], self._bias) # allocate\n",
    "        alp = self._weights\n",
    "        supportvecs = self._support_vectors\n",
    "        supportlabels = self._support_vector_labels\n",
    "        for ind_i,val_xi in enumerate(X):\n",
    "            for ind_j, val_xj in enumerate(supportvecs):\n",
    "                result[ind_i] = result[ind_i] + alp[ind_j]*supportlabels[ind_j]*self._kernel(val_xi,val_xj)\n",
    "        \n",
    "        return np.sign(result)\n",
    "\n",
    "    def _kernel_matrix(self, X):\n",
    "        \"\"\"\n",
    "        Get the kernel matrix.\n",
    "\n",
    "        Parameters\n",
    "        ----------\n",
    "        X : 2D array\n",
    "            N x d data matrix (row per example)\n",
    "\n",
    "        Returns\n",
    "        -------\n",
    "        K : 2D array\n",
    "            N x N kernel matrix\n",
    "        \"\"\"\n",
    "        N, d = X.shape\n",
    "        K = np.zeros((N, N))\n",
    "        for i, x_i in enumerate(X):\n",
    "            for j, x_j in enumerate(X):\n",
    "                K[i, j] = self._kernel(x_i, x_j)\n",
    "        return K\n",
    "\n",
    "    def _construct_predictor(self, X, y, lagrange_multipliers):\n",
    "        \"\"\"\n",
    "        Given the data, label and the multipliers, extract the support vectors and calculate the bias\n",
    "\n",
    "        Parameters\n",
    "        ----------\n",
    "        X : 2D array\n",
    "            N x d data matrix (row per example)\n",
    "        y : 1D array\n",
    "            class label\n",
    "        lagrange_multipliers: 1D array\n",
    "            the solution of lagrange_multiplier\n",
    "\n",
    "        Fills in relevant variables: model bias and weights (alphas), and details of support vectors\n",
    "        \n",
    "        -------\n",
    "        \"\"\"\n",
    "        support_vector_indices = \\\n",
    "            lagrange_multipliers > 1e-5\n",
    "            \n",
    "        print(\"SV number: \", np.sum(support_vector_indices))\n",
    "\n",
    "        support_multipliers = lagrange_multipliers[support_vector_indices]\n",
    "        support_vectors = X[support_vector_indices]\n",
    "        support_vector_labels = y[support_vector_indices]\n",
    "\n",
    "        \"\"\"\n",
    "        Get the bias term (w_0)\n",
    "        \"\"\"\n",
    "        bias = np.sum(support_vector_labels)\n",
    "        for i, x_i in enumerate(support_vectors):\n",
    "            for j,x_j in enumerate(support_vectors):\n",
    "                bias = bias - support_multipliers[j]*support_vector_labels[j]*self._kernel(x_i,x_j)\n",
    "        bias = bias / float(np.sum(support_vector_indices))\n",
    "        \n",
    "        self._bias=bias\n",
    "        self._weights=support_multipliers\n",
    "        self._support_vectors=support_vectors\n",
    "        self._support_vector_labels=support_vector_labels\n",
    "        \n",
    "        \n",
    "    def _compute_multipliers(self, X, y):\n",
    "        \"\"\"\n",
    "        Given the data, label, solve the QP program to get lagrange multiplier.\n",
    "\n",
    "        Parameters\n",
    "        ----------\n",
    "        X : 2D array\n",
    "            N x d data matrix (row per example)\n",
    "        y : 1D array\n",
    "            class label\n",
    "\n",
    "        Returns\n",
    "        lagrange_multipliers: 1D array\n",
    "        -------\n",
    "        \"\"\"\n",
    "        N, d = X.shape\n",
    "\n",
    "        K = self._kernel_matrix(X)\n",
    "        \"\"\"\n",
    "        The standard QP solver formulation:\n",
    "        min 1/2 x^T H x + f^T x\n",
    "        s.t.\n",
    "        Ax <=  a\n",
    "        Bx = b\n",
    "        \"\"\"\n",
    "        H = cvxopt.matrix(np.outer(y,y)*K)\n",
    "        f = cvxopt.matrix(-1 * np.ones(N))\n",
    "\n",
    "        A = cvxopt.matrix(np.vstack((cvxopt.matrix(np.diag(np.ones(N))), cvxopt.matrix(np.diag(np.ones(N) * -1)))))\n",
    "        a = cvxopt.matrix(np.vstack((cvxopt.matrix(np.ones(N) * self._c), cvxopt.matrix(np.zeros(N)))))\n",
    "\n",
    "        B = cvxopt.matrix(y, (1, N))\n",
    "        b = cvxopt.matrix(0.0)\n",
    "        \n",
    "        # call the QP solver\n",
    "        solution = cvxopt.solvers.qp(H, f, A, a, B, b)\n",
    "\n",
    "        # Lagrange multipliers (the unknown vector 'x' is our alphas)\n",
    "        return np.ravel(solution['x'])"
   ]
  },
  {
   "cell_type": "markdown",
   "metadata": {},
   "source": [
    "Test the trainer.\n",
    "The following code would generate data which the grounth truth split is x+y = 0.5."
   ]
  },
  {
   "cell_type": "code",
   "execution_count": 7,
   "metadata": {},
   "outputs": [
    {
     "name": "stdout",
     "output_type": "stream",
     "text": [
      "SV number:  8\n"
     ]
    },
    {
     "data": {
      "image/png": "[encoded data removed]",
      "text/plain": [
       "<matplotlib.figure.Figure at 0x10880f748>"
      ]
     },
     "metadata": {},
     "output_type": "display_data"
    }
   ],
   "source": [
    "clf = SVM(Kernel.linear(), 100)\n",
    "test_linear_SVM(clf, 100)"
   ]
  },
  {
   "cell_type": "code",
   "execution_count": 8,
   "metadata": {},
   "outputs": [
    {
     "name": "stdout",
     "output_type": "stream",
     "text": [
      "SV number:  12\n"
     ]
    },
    {
     "data": {
      "image/png": "[encoded data removed]",
      "text/plain": [
       "<matplotlib.figure.Figure at 0x10f67c278>"
      ]
     },
     "metadata": {},
     "output_type": "display_data"
    }
   ],
   "source": [
    "clf = SVM(Kernel.gaussian(1), 100)\n",
    "test_rbf_SVM(clf, 100)"
   ]
  },
  {
   "cell_type": "markdown",
   "metadata": {},
   "source": [
    "If you think your code is correct, then we can move to the real problem. Below are some code examples; you will need to fill in some details, and extend these to any experiments you want to run."
   ]
  },
  {
   "cell_type": "code",
   "execution_count": 9,
   "metadata": {},
   "outputs": [
    {
     "name": "stdout",
     "output_type": "stream",
     "text": [
      "SV number:  1268\n",
      "C =  1\n",
      "Acc on train:  0.956036036036\n",
      "Acc on val:  0.724\n",
      "SV number:  1165\n",
      "C =  2\n",
      "Acc on train:  0.97045045045\n",
      "Acc on val:  0.746\n",
      "SV number:  1139\n",
      "C =  3\n",
      "Acc on train:  0.980540540541\n",
      "Acc on val:  0.732\n",
      "SV number:  1107\n",
      "C =  4\n",
      "Acc on train:  0.984864864865\n",
      "Acc on val:  0.734\n"
     ]
    }
   ],
   "source": [
    " for C in [1,2,3,4]:\n",
    "    clf = SVM(Kernel.linear(), C)\n",
    "    clf.fit(X['train'], y['train'].astype('double'))\n",
    "    print(\"C = \", C)\n",
    "    y_hat = clf.predict(X['train'])\n",
    "    print(\"Acc on train: \", np.mean(y_hat == y['train']))\n",
    "    y_hat = clf.predict(X['val'])\n",
    "    print(\"Acc on val: \", np.mean(y_hat == y['val']))"
   ]
  },
  {
   "cell_type": "markdown",
   "metadata": {},
   "source": [
    "Choose the best C, and predict the label for test data."
   ]
  },
  {
   "cell_type": "code",
   "execution_count": 17,
   "metadata": {},
   "outputs": [
    {
     "name": "stdout",
     "output_type": "stream",
     "text": [
      "SV number:  1165\n"
     ]
    }
   ],
   "source": [
    "C = 2\n",
    "clf = SVM(Kernel.linear(), C)\n",
    "clf.fit(X['train'], y['train'].astype('double'))\n",
    "y_hat = clf.predict(X['test'])\n",
    "save_submission('sub_linear.csv', y_hat)\n"
   ]
  },
  {
   "cell_type": "markdown",
   "metadata": {},
   "source": [
    "RBF (Gaussian) kernel SVM"
   ]
  },
  {
   "cell_type": "code",
   "execution_count": 13,
   "metadata": {},
   "outputs": [
    {
     "name": "stdout",
     "output_type": "stream",
     "text": [
      "SV number:  2246\n",
      "C =  1\n",
      "gamma =  0.0001\n",
      "Acc on train:  0.636396396396\n",
      "Acc on val:  0.67\n",
      "SV number:  2064\n",
      "C =  1\n",
      "gamma =  0.01\n",
      "Acc on train:  0.83027027027\n",
      "Acc on val:  0.722\n",
      "SV number:  2775\n",
      "C =  1\n",
      "gamma =  1\n",
      "Acc on train:  1.0\n",
      "Acc on val:  0.67\n",
      "SV number:  2775\n",
      "C =  1\n",
      "gamma =  10\n",
      "Acc on train:  1.0\n",
      "Acc on val:  0.67\n",
      "SV number:  2480\n",
      "C =  2\n",
      "gamma =  0.0001\n",
      "Acc on train:  0.636396396396\n",
      "Acc on val:  0.67\n",
      "SV number:  1925\n",
      "C =  2\n",
      "gamma =  0.01\n",
      "Acc on train:  0.864864864865\n",
      "Acc on val:  0.746\n",
      "SV number:  2775\n",
      "C =  2\n",
      "gamma =  1\n",
      "Acc on train:  1.0\n",
      "Acc on val:  0.67\n",
      "SV number:  2775\n",
      "C =  2\n",
      "gamma =  10\n",
      "Acc on train:  1.0\n",
      "Acc on val:  0.67\n",
      "SV number:  2688\n",
      "C =  3\n",
      "gamma =  0.0001\n",
      "Acc on train:  0.636396396396\n",
      "Acc on val:  0.67\n",
      "SV number:  1889\n",
      "C =  3\n",
      "gamma =  0.01\n",
      "Acc on train:  0.887207207207\n",
      "Acc on val:  0.75\n",
      "SV number:  2775\n",
      "C =  3\n",
      "gamma =  1\n",
      "Acc on train:  1.0\n",
      "Acc on val:  0.67\n",
      "SV number:  2775\n",
      "C =  3\n",
      "gamma =  10\n",
      "Acc on train:  1.0\n",
      "Acc on val:  0.67\n",
      "SV number:  2713\n",
      "C =  4\n",
      "gamma =  0.0001\n",
      "Acc on train:  0.636396396396\n",
      "Acc on val:  0.67\n",
      "SV number:  1882\n",
      "C =  4\n",
      "gamma =  0.01\n",
      "Acc on train:  0.903063063063\n",
      "Acc on val:  0.738\n",
      "SV number:  2775\n",
      "C =  4\n",
      "gamma =  1\n",
      "Acc on train:  1.0\n",
      "Acc on val:  0.67\n",
      "SV number:  2775\n",
      "C =  4\n",
      "gamma =  10\n",
      "Acc on train:  1.0\n",
      "Acc on val:  0.67\n"
     ]
    }
   ],
   "source": [
    "for C in [1,2,3,4]:\n",
    "    for gamma in [0.0001,0.01,1,10]:\n",
    "        clf = SVM(Kernel.gaussian(gamma), C)\n",
    "        clf.fit(X['train'], y['train'].astype('double'))\n",
    "        print(\"C = \", C)\n",
    "        print(\"gamma = \", gamma)\n",
    "        y_hat = clf.predict(X['train'])\n",
    "        print(\"Acc on train: \", np.mean(y_hat == y['train']))\n",
    "        y_hat = clf.predict(X['val'])\n",
    "        print(\"Acc on val: \", np.mean(y_hat == y['val']))\n",
    "        "
   ]
  },
  {
   "cell_type": "code",
   "execution_count": 16,
   "metadata": {},
   "outputs": [
    {
     "name": "stdout",
     "output_type": "stream",
     "text": [
      "SV number:  1889\n"
     ]
    }
   ],
   "source": [
    "clf = SVM(Kernel.gaussian(0.01), 3)\n",
    "clf.fit(X['train'], y['train'].astype('double'))\n",
    "y_hat = clf.predict(X['test'])\n",
    "save_submission('sub_rbf.csv', y_hat)\n"
   ]
  },
  {
   "cell_type": "code",
   "execution_count": null,
   "metadata": {
    "collapsed": true
   },
   "outputs": [],
   "source": [
    "Since gamma is proportional to the inverse of the variance, as its value increases\n",
    "we see that the model starts to overfit since it has a small variance and the train accuracy approaches 1. \n",
    "This happens to all different values of C for gamma greater or equal to 1. Once we allow the variance to be greater, \n",
    "i.e, smaller gamas, we arrive at the best estimator at gamma=0.01. \n",
    "For the regularization parameter C we have a optimal value at C=3,\n",
    "but when looking at the range of values for C maintaining gamma=0.01 there is no substantial change. The training acc\n",
    "does increase with the increase of C, though. "
   ]
  }
 ],
 "metadata": {
  "kernelspec": {
   "display_name": "Python 3",
   "language": "python",
   "name": "python3"
  },
  "language_info": {
   "codemirror_mode": {
    "name": "ipython",
    "version": 3
   },
   "file_extension": ".py",
   "mimetype": "text/x-python",
   "name": "python",
   "nbconvert_exporter": "python",
   "pygments_lexer": "ipython3",
   "version": "3.6.2"
  }
 },
 "nbformat": 4,
 "nbformat_minor": 1
}
